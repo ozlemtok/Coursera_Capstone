{
 "cells": [
  {
   "cell_type": "markdown",
   "metadata": {},
   "source": [
    "## 1. Introduction"
   ]
  },
  {
   "cell_type": "markdown",
   "metadata": {},
   "source": [
    "### 1.1 Background"
   ]
  },
  {
   "cell_type": "markdown",
   "metadata": {},
   "source": [
    "Toronto is the provincial capital of Ontario and the most populous city in Canada. A global city, Toronto is a centre of business, finance, arts, and culture, and is recognized as one of the most multicultural and cosmopolitan cities in the world. This city is a hub for harbouring many different cultures in one place. Like the other global cities, \"coffee shop culture\" is a growing trend in Toronto."
   ]
  },
  {
   "cell_type": "markdown",
   "metadata": {},
   "source": [
    "Coffee shops were just places to drink. However, recently \"coffee shop culture\" has emerged. People go to a coffee shop not only to drink coffee but also to socialize, spend time with their friends and even study or read a book. Coffee shops are great places to relax after going shopping or to meet up with friends/family. Many people prefer to go there alone as well ,since these places have a cosy atmosphere to sit for hours and read or write in peace. "
   ]
  },
  {
   "cell_type": "markdown",
   "metadata": {},
   "source": [
    "Given the popularity of coffee shops, it is not a bad idea to open a coffee shop in Toronto."
   ]
  },
  {
   "cell_type": "markdown",
   "metadata": {},
   "source": [
    "### 1.2 Business Problem and Interest"
   ]
  },
  {
   "cell_type": "markdown",
   "metadata": {},
   "source": [
    "Opening a coffee shop requires a comprehensive business plan with serious business decisions. One of the most important \n",
    "decisions is deciding the location of a new coffee shop. This project aims to select the best location to open a coffee shop in Toronto. It targets an audience who want to invest in opening a new coffee shop in Toronto. "
   ]
  }
 ],
 "metadata": {
  "kernelspec": {
   "display_name": "Python 3",
   "language": "python",
   "name": "python3"
  },
  "language_info": {
   "codemirror_mode": {
    "name": "ipython",
    "version": 3
   },
   "file_extension": ".py",
   "mimetype": "text/x-python",
   "name": "python",
   "nbconvert_exporter": "python",
   "pygments_lexer": "ipython3",
   "version": "3.5.3"
  }
 },
 "nbformat": 4,
 "nbformat_minor": 2
}
